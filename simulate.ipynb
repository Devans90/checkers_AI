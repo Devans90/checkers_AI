{
 "cells": [
  {
   "cell_type": "code",
   "execution_count": 1,
   "metadata": {},
   "outputs": [
    {
     "name": "stdout",
     "output_type": "stream",
     "text": [
      "pygame 2.5.0 (SDL 2.28.0, Python 3.11.3)\n",
      "Hello from the pygame community. https://www.pygame.org/contribute.html\n"
     ]
    }
   ],
   "source": [
    "# Import necessary modules\n",
    "from Game import Game\n",
    "from Bot import RandomBot  # Assuming you have these bot classes\n",
    "from play_multiple_games import play_multiple_games"
   ]
  },
  {
   "cell_type": "code",
   "execution_count": 4,
   "metadata": {},
   "outputs": [],
   "source": [
    "# Create instances of your bots\n",
    "# Remember to pass the appropriate color for each bot ('red' or 'black')\n",
    "bot1 = RandomBot('red')\n",
    "bot2 = RandomBot('black')\n",
    "\n",
    "# Decide how many games to play\n",
    "num_games = 2\n",
    "\n",
    "# Play the games and get the results\n",
    "bot1_wins, bot2_wins = play_multiple_games(bot1, bot2, num_games)\n",
    "\n",
    "# Print the results\n",
    "print(f\"After {num_games} games, {bot1.__class__.__name__} won {bot1_wins} times and {bot2.__class__.__name__} won {bot2_wins} times.\")"
   ]
  },
  {
   "cell_type": "code",
   "execution_count": null,
   "metadata": {},
   "outputs": [],
   "source": []
  }
 ],
 "metadata": {
  "kernelspec": {
   "display_name": "GPTEngineer",
   "language": "python",
   "name": "python3"
  },
  "language_info": {
   "codemirror_mode": {
    "name": "ipython",
    "version": 3
   },
   "file_extension": ".py",
   "mimetype": "text/x-python",
   "name": "python",
   "nbconvert_exporter": "python",
   "pygments_lexer": "ipython3",
   "version": "3.11.3"
  },
  "orig_nbformat": 4
 },
 "nbformat": 4,
 "nbformat_minor": 2
}
